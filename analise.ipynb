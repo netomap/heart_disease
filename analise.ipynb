{
 "cells": [
  {
   "cell_type": "code",
   "execution_count": 24,
   "id": "6af629e9",
   "metadata": {},
   "outputs": [],
   "source": [
    "import pandas as pd\n",
    "import numpy as np\n",
    "import matplotlib.pyplot as plt\n",
    "import seaborn as sns\n",
    "\n",
    "import os\n",
    "\n",
    "import shap\n",
    "\n",
    "from sklearn.impute import KNNImputer\n",
    "from sklearn.model_selection import train_test_split\n",
    "from sklearn.preprocessing import StandardScaler\n",
    "from sklearn.ensemble import RandomForestClassifier\n",
    "from sklearn.neighbors import KNeighborsClassifier\n",
    "from sklearn.metrics import classification_report, confusion_matrix, accuracy_score, precision_score"
   ]
  },
  {
   "cell_type": "code",
   "execution_count": 4,
   "id": "827fded5",
   "metadata": {},
   "outputs": [
    {
     "data": {
      "text/html": [
       "<div>\n",
       "<style scoped>\n",
       "    .dataframe tbody tr th:only-of-type {\n",
       "        vertical-align: middle;\n",
       "    }\n",
       "\n",
       "    .dataframe tbody tr th {\n",
       "        vertical-align: top;\n",
       "    }\n",
       "\n",
       "    .dataframe thead th {\n",
       "        text-align: right;\n",
       "    }\n",
       "</style>\n",
       "<table border=\"1\" class=\"dataframe\">\n",
       "  <thead>\n",
       "    <tr style=\"text-align: right;\">\n",
       "      <th></th>\n",
       "      <th>age</th>\n",
       "      <th>sex</th>\n",
       "      <th>cp</th>\n",
       "      <th>trestbps</th>\n",
       "      <th>chol</th>\n",
       "      <th>fbs</th>\n",
       "      <th>restecg</th>\n",
       "      <th>thalach</th>\n",
       "      <th>exang</th>\n",
       "      <th>oldpeak</th>\n",
       "      <th>slope</th>\n",
       "      <th>ca</th>\n",
       "      <th>thal</th>\n",
       "      <th>target</th>\n",
       "    </tr>\n",
       "  </thead>\n",
       "  <tbody>\n",
       "    <tr>\n",
       "      <th>521</th>\n",
       "      <td>55.0</td>\n",
       "      <td>1.0</td>\n",
       "      <td>4.0</td>\n",
       "      <td>140</td>\n",
       "      <td>201</td>\n",
       "      <td>0</td>\n",
       "      <td>0</td>\n",
       "      <td>130</td>\n",
       "      <td>1</td>\n",
       "      <td>3.0</td>\n",
       "      <td>2</td>\n",
       "      <td>?</td>\n",
       "      <td>?</td>\n",
       "      <td>1</td>\n",
       "    </tr>\n",
       "    <tr>\n",
       "      <th>320</th>\n",
       "      <td>36.0</td>\n",
       "      <td>1.0</td>\n",
       "      <td>3.0</td>\n",
       "      <td>112</td>\n",
       "      <td>340</td>\n",
       "      <td>0</td>\n",
       "      <td>0</td>\n",
       "      <td>184</td>\n",
       "      <td>0</td>\n",
       "      <td>1.0</td>\n",
       "      <td>2</td>\n",
       "      <td>?</td>\n",
       "      <td>3</td>\n",
       "      <td>0</td>\n",
       "    </tr>\n",
       "    <tr>\n",
       "      <th>567</th>\n",
       "      <td>52.0</td>\n",
       "      <td>1.0</td>\n",
       "      <td>4.0</td>\n",
       "      <td>160</td>\n",
       "      <td>246</td>\n",
       "      <td>0</td>\n",
       "      <td>1</td>\n",
       "      <td>82</td>\n",
       "      <td>1</td>\n",
       "      <td>4.0</td>\n",
       "      <td>2</td>\n",
       "      <td>?</td>\n",
       "      <td>?</td>\n",
       "      <td>1</td>\n",
       "    </tr>\n",
       "    <tr>\n",
       "      <th>11</th>\n",
       "      <td>56.0</td>\n",
       "      <td>0.0</td>\n",
       "      <td>2.0</td>\n",
       "      <td>140.0</td>\n",
       "      <td>294.0</td>\n",
       "      <td>0.0</td>\n",
       "      <td>2.0</td>\n",
       "      <td>153.0</td>\n",
       "      <td>0.0</td>\n",
       "      <td>1.3</td>\n",
       "      <td>2.0</td>\n",
       "      <td>0.0</td>\n",
       "      <td>3.0</td>\n",
       "      <td>0</td>\n",
       "    </tr>\n",
       "    <tr>\n",
       "      <th>817</th>\n",
       "      <td>62.0</td>\n",
       "      <td>1.0</td>\n",
       "      <td>1.0</td>\n",
       "      <td>112</td>\n",
       "      <td>258</td>\n",
       "      <td>0</td>\n",
       "      <td>1</td>\n",
       "      <td>150</td>\n",
       "      <td>1</td>\n",
       "      <td>?</td>\n",
       "      <td>?</td>\n",
       "      <td>?</td>\n",
       "      <td>?</td>\n",
       "      <td>1</td>\n",
       "    </tr>\n",
       "  </tbody>\n",
       "</table>\n",
       "</div>"
      ],
      "text/plain": [
       "      age  sex   cp trestbps   chol  fbs restecg thalach exang oldpeak slope  \\\n",
       "521  55.0  1.0  4.0      140    201    0       0     130     1     3.0     2   \n",
       "320  36.0  1.0  3.0      112    340    0       0     184     0     1.0     2   \n",
       "567  52.0  1.0  4.0      160    246    0       1      82     1     4.0     2   \n",
       "11   56.0  0.0  2.0    140.0  294.0  0.0     2.0   153.0   0.0     1.3   2.0   \n",
       "817  62.0  1.0  1.0      112    258    0       1     150     1       ?     ?   \n",
       "\n",
       "      ca thal  target  \n",
       "521    ?    ?       1  \n",
       "320    ?    3       0  \n",
       "567    ?    ?       1  \n",
       "11   0.0  3.0       0  \n",
       "817    ?    ?       1  "
      ]
     },
     "execution_count": 4,
     "metadata": {},
     "output_type": "execute_result"
    }
   ],
   "source": [
    "# Preparando o dataset\n",
    "diretorio = 'heart+disease'\n",
    "\n",
    "arquivos = os.listdir(diretorio)\n",
    "arquivos = [arquivo for arquivo in arquivos if arquivo.startswith('processed.') and arquivo.endswith('.data')]\n",
    "\n",
    "datasets = []\n",
    "for arquivo in arquivos:\n",
    "    dataset = pd.read_csv(os.path.join(diretorio, arquivo), header=None)\n",
    "    datasets.append(dataset)\n",
    "\n",
    "# Concatenando os datasets\n",
    "dataset = pd.concat(datasets, ignore_index=True)\n",
    "\n",
    "dataset.columns = [\"age\", \"sex\", \"cp\", \"trestbps\", \"chol\", \"fbs\", \"restecg\", \"thalach\", \"exang\", \"oldpeak\", \"slope\", \"ca\", \"thal\", \"target\"]\n",
    "\n",
    "dataset.sample(5)"
   ]
  },
  {
   "cell_type": "markdown",
   "id": "1b5a2d50",
   "metadata": {},
   "source": [
    "---\n",
    "-  Analisando o dataset"
   ]
  },
  {
   "cell_type": "code",
   "execution_count": 6,
   "id": "8a67b9be",
   "metadata": {},
   "outputs": [
    {
     "data": {
      "text/plain": [
       "target\n",
       "0    411\n",
       "1    265\n",
       "2    109\n",
       "3    107\n",
       "4     28\n",
       "Name: count, dtype: int64"
      ]
     },
     "execution_count": 6,
     "metadata": {},
     "output_type": "execute_result"
    }
   ],
   "source": [
    "dataset['target'].value_counts()"
   ]
  },
  {
   "cell_type": "code",
   "execution_count": 7,
   "id": "17006fd6",
   "metadata": {},
   "outputs": [
    {
     "name": "stdout",
     "output_type": "stream",
     "text": [
      "(920, 14)\n",
      "(299, 14)\n"
     ]
    }
   ],
   "source": [
    "df = dataset.copy()\n",
    "\n",
    "print (df.shape)\n",
    "# excluindo linhas que tenham ao menos valor ?\n",
    "df = df.replace('?', np.nan)\n",
    "df.dropna(inplace=True)\n",
    "\n",
    "print (df.shape)"
   ]
  },
  {
   "cell_type": "markdown",
   "id": "fe048dcf",
   "metadata": {},
   "source": [
    "- Não tem como minimamente excluir as linhas que apreentam \"?\". Vai excluir muitas linhas e tem uma perda grande. \n",
    "- Assim, vamos tentar fazer um preenchimento artificial, porém inteligente desses valores faltantes. \n",
    "- Vamos utilizar a biblioteca \"\"."
   ]
  },
  {
   "cell_type": "code",
   "execution_count": 8,
   "id": "4c0ebb30",
   "metadata": {},
   "outputs": [
    {
     "data": {
      "text/html": [
       "<div>\n",
       "<style scoped>\n",
       "    .dataframe tbody tr th:only-of-type {\n",
       "        vertical-align: middle;\n",
       "    }\n",
       "\n",
       "    .dataframe tbody tr th {\n",
       "        vertical-align: top;\n",
       "    }\n",
       "\n",
       "    .dataframe thead th {\n",
       "        text-align: right;\n",
       "    }\n",
       "</style>\n",
       "<table border=\"1\" class=\"dataframe\">\n",
       "  <thead>\n",
       "    <tr style=\"text-align: right;\">\n",
       "      <th></th>\n",
       "      <th>age</th>\n",
       "      <th>sex</th>\n",
       "      <th>cp</th>\n",
       "      <th>trestbps</th>\n",
       "      <th>chol</th>\n",
       "      <th>fbs</th>\n",
       "      <th>restecg</th>\n",
       "      <th>thalach</th>\n",
       "      <th>exang</th>\n",
       "      <th>oldpeak</th>\n",
       "      <th>slope</th>\n",
       "      <th>ca</th>\n",
       "      <th>thal</th>\n",
       "      <th>target</th>\n",
       "    </tr>\n",
       "  </thead>\n",
       "  <tbody>\n",
       "    <tr>\n",
       "      <th>136</th>\n",
       "      <td>70.0</td>\n",
       "      <td>1.0</td>\n",
       "      <td>4.0</td>\n",
       "      <td>145.0</td>\n",
       "      <td>174.0</td>\n",
       "      <td>0.0</td>\n",
       "      <td>0.0</td>\n",
       "      <td>125.0</td>\n",
       "      <td>1.0</td>\n",
       "      <td>2.60</td>\n",
       "      <td>3.0</td>\n",
       "      <td>0.0</td>\n",
       "      <td>7.0</td>\n",
       "      <td>4</td>\n",
       "    </tr>\n",
       "    <tr>\n",
       "      <th>676</th>\n",
       "      <td>60.0</td>\n",
       "      <td>1.0</td>\n",
       "      <td>4.0</td>\n",
       "      <td>130.0</td>\n",
       "      <td>0.0</td>\n",
       "      <td>0.1</td>\n",
       "      <td>1.0</td>\n",
       "      <td>130.0</td>\n",
       "      <td>1.0</td>\n",
       "      <td>1.10</td>\n",
       "      <td>3.0</td>\n",
       "      <td>1.0</td>\n",
       "      <td>6.8</td>\n",
       "      <td>1</td>\n",
       "    </tr>\n",
       "    <tr>\n",
       "      <th>326</th>\n",
       "      <td>37.0</td>\n",
       "      <td>1.0</td>\n",
       "      <td>2.0</td>\n",
       "      <td>130.0</td>\n",
       "      <td>283.0</td>\n",
       "      <td>0.0</td>\n",
       "      <td>1.0</td>\n",
       "      <td>98.0</td>\n",
       "      <td>0.0</td>\n",
       "      <td>0.00</td>\n",
       "      <td>2.2</td>\n",
       "      <td>1.4</td>\n",
       "      <td>5.8</td>\n",
       "      <td>0</td>\n",
       "    </tr>\n",
       "    <tr>\n",
       "      <th>733</th>\n",
       "      <td>63.0</td>\n",
       "      <td>1.0</td>\n",
       "      <td>3.0</td>\n",
       "      <td>130.7</td>\n",
       "      <td>0.0</td>\n",
       "      <td>0.0</td>\n",
       "      <td>2.0</td>\n",
       "      <td>123.0</td>\n",
       "      <td>0.4</td>\n",
       "      <td>0.85</td>\n",
       "      <td>2.0</td>\n",
       "      <td>1.0</td>\n",
       "      <td>5.8</td>\n",
       "      <td>1</td>\n",
       "    </tr>\n",
       "    <tr>\n",
       "      <th>882</th>\n",
       "      <td>57.0</td>\n",
       "      <td>1.0</td>\n",
       "      <td>4.0</td>\n",
       "      <td>156.0</td>\n",
       "      <td>173.0</td>\n",
       "      <td>0.0</td>\n",
       "      <td>2.0</td>\n",
       "      <td>119.0</td>\n",
       "      <td>1.0</td>\n",
       "      <td>3.00</td>\n",
       "      <td>3.0</td>\n",
       "      <td>1.1</td>\n",
       "      <td>6.3</td>\n",
       "      <td>3</td>\n",
       "    </tr>\n",
       "  </tbody>\n",
       "</table>\n",
       "</div>"
      ],
      "text/plain": [
       "      age  sex   cp  trestbps   chol  fbs  restecg  thalach  exang  oldpeak  \\\n",
       "136  70.0  1.0  4.0     145.0  174.0  0.0      0.0    125.0    1.0     2.60   \n",
       "676  60.0  1.0  4.0     130.0    0.0  0.1      1.0    130.0    1.0     1.10   \n",
       "326  37.0  1.0  2.0     130.0  283.0  0.0      1.0     98.0    0.0     0.00   \n",
       "733  63.0  1.0  3.0     130.7    0.0  0.0      2.0    123.0    0.4     0.85   \n",
       "882  57.0  1.0  4.0     156.0  173.0  0.0      2.0    119.0    1.0     3.00   \n",
       "\n",
       "     slope   ca  thal  target  \n",
       "136    3.0  0.0   7.0       4  \n",
       "676    3.0  1.0   6.8       1  \n",
       "326    2.2  1.4   5.8       0  \n",
       "733    2.0  1.0   5.8       1  \n",
       "882    3.0  1.1   6.3       3  "
      ]
     },
     "execution_count": 8,
     "metadata": {},
     "output_type": "execute_result"
    }
   ],
   "source": [
    "knn_inputer = KNNImputer(n_neighbors=10, weights='uniform', metric='nan_euclidean')\n",
    "\n",
    "df = dataset.copy()\n",
    "df = df.replace('?', np.nan)\n",
    "df = df.astype(float)\n",
    "df_inputed = knn_inputer.fit_transform(df)\n",
    "\n",
    "df = pd.DataFrame(df_inputed, columns=df.columns)\n",
    "df['target'] = df['target'].astype(int)\n",
    "df.sample(5)"
   ]
  },
  {
   "cell_type": "markdown",
   "id": "a035e262",
   "metadata": {},
   "source": [
    "---\n",
    "- Vamos preparar o dataset para treinamento e teste"
   ]
  },
  {
   "cell_type": "code",
   "execution_count": 27,
   "id": "9751aa24",
   "metadata": {},
   "outputs": [
    {
     "name": "stdout",
     "output_type": "stream",
     "text": [
      "x_train.shape=(598, 13)\n",
      "x_test.shape=(322, 13)\n",
      "y_train.shape=(598,)\n",
      "y_test.shape=(322,)\n"
     ]
    }
   ],
   "source": [
    "df_train = df.copy().drop(columns=['target'])\n",
    "df_test = df.copy()['target']\n",
    "\n",
    "scaler = StandardScaler()\n",
    "df_train = scaler.fit_transform(df_train)\n",
    "\n",
    "x_train, x_test, y_train, y_test = train_test_split(df_train, df_test, test_size=0.35, stratify=df_test)\n",
    "\n",
    "print (f'{x_train.shape=}\\n{x_test.shape=}\\n{y_train.shape=}\\n{y_test.shape=}')"
   ]
  },
  {
   "cell_type": "code",
   "execution_count": 10,
   "id": "dda1b49f",
   "metadata": {},
   "outputs": [
    {
     "data": {
      "text/plain": [
       "<Axes: title={'center': 'Distribuição de classes no teste'}, xlabel='Classes', ylabel='Frequência'>"
      ]
     },
     "execution_count": 10,
     "metadata": {},
     "output_type": "execute_result"
    },
    {
     "data": {
      "image/png": "[encoded data removed]",
      "text/plain": [
       "<Figure size 1500x300 with 2 Axes>"
      ]
     },
     "metadata": {},
     "output_type": "display_data"
    }
   ],
   "source": [
    "grafico = plt.figure(figsize=(15, 3))\n",
    "\n",
    "grafico.add_subplot(1, 2, 1)\n",
    "pd.DataFrame(y_train).value_counts().plot(kind='bar', title='Distribuição de classes no treino', xlabel='Classes', ylabel='Frequência')\n",
    "\n",
    "grafico.add_subplot(1, 2, 2)\n",
    "pd.DataFrame(y_test).value_counts().plot(kind='bar', title='Distribuição de classes no teste', xlabel='Classes', ylabel='Frequência')"
   ]
  },
  {
   "cell_type": "code",
   "execution_count": 29,
   "id": "61c7c1ee",
   "metadata": {},
   "outputs": [
    {
     "name": "stdout",
     "output_type": "stream",
     "text": [
      "target\n",
      "0    144\n",
      "1     93\n",
      "2     38\n",
      "3     37\n",
      "4     10\n",
      "Name: count, dtype: int64\n"
     ]
    }
   ],
   "source": [
    "print (y_test.value_counts())"
   ]
  },
  {
   "cell_type": "code",
   "execution_count": 30,
   "id": "5e1a69d1",
   "metadata": {},
   "outputs": [
    {
     "name": "stdout",
     "output_type": "stream",
     "text": [
      "Accuracy: 0.59\n"
     ]
    },
    {
     "data": {
      "image/png": "[encoded data removed]",
      "text/plain": [
       "<Figure size 640x480 with 2 Axes>"
      ]
     },
     "metadata": {},
     "output_type": "display_data"
    }
   ],
   "source": [
    "model = RandomForestClassifier(n_estimators=200, class_weight='balanced')\n",
    "model.fit(x_train, y_train)\n",
    "\n",
    "y_pred = model.predict(x_test)\n",
    "\n",
    "accuracy = accuracy_score(y_test, y_pred)\n",
    "print (f'Accuracy: {accuracy:.2f}')\n",
    "\n",
    "confusion = confusion_matrix(y_test, y_pred)\n",
    "\n",
    "sns.heatmap(confusion, annot=True, fmt='d', cmap='Blues', xticklabels=[0, 1, 2, 3, 4], yticklabels=[0, 1, 2, 3, 4])\n",
    "plt.xlabel('Predicted')\n",
    "plt.ylabel('True')\n",
    "plt.title('Matriz de Confusão')\n",
    "plt.show()"
   ]
  },
  {
   "cell_type": "markdown",
   "id": "898202d2",
   "metadata": {},
   "source": [
    "- Muito ruim. Ficou muito baixa a performance do modelo Random Forest"
   ]
  },
  {
   "cell_type": "markdown",
   "id": "ed31bd44",
   "metadata": {},
   "source": [
    "---\n",
    "- Utilizando modelo knn"
   ]
  },
  {
   "cell_type": "code",
   "execution_count": 31,
   "id": "6533f83d",
   "metadata": {},
   "outputs": [
    {
     "name": "stdout",
     "output_type": "stream",
     "text": [
      "Accuracy: 0.60\n"
     ]
    },
    {
     "data": {
      "image/png": "[encoded data removed]",
      "text/plain": [
       "<Figure size 640x480 with 2 Axes>"
      ]
     },
     "metadata": {},
     "output_type": "display_data"
    }
   ],
   "source": [
    "model = KNeighborsClassifier(n_neighbors=15, weights='uniform', metric='nan_euclidean')\n",
    "model.fit(x_train, y_train)\n",
    "\n",
    "y_pred = model.predict(x_test)\n",
    "\n",
    "accuracy = accuracy_score(y_test, y_pred)\n",
    "print (f'Accuracy: {accuracy:.2f}')\n",
    "\n",
    "confusion = confusion_matrix(y_test, y_pred)\n",
    "\n",
    "sns.heatmap(confusion, annot=True, fmt='d', cmap='Blues', xticklabels=[0, 1, 2, 3, 4], yticklabels=[0, 1, 2, 3, 4])\n",
    "plt.xlabel('Predicted')\n",
    "plt.ylabel('True')\n",
    "plt.title('Matriz de Confusão')\n",
    "plt.show()"
   ]
  },
  {
   "cell_type": "markdown",
   "id": "20352098",
   "metadata": {},
   "source": [
    "- O dataset está muito desbalanceado. Vamos tentar duas alternativas:\n",
    "- 1ª) Remover várias instâncias das classes dominantes para ver se os modelos ficam menos insensíveis com as classes minoritárias;\n",
    "- 2ª) Utilizar bibliotecas que criam instâncias \"falsas\" para a classe minoritária e ver se aumenta a sensibilidade desta;"
   ]
  },
  {
   "cell_type": "code",
   "execution_count": null,
   "id": "762b6a2f",
   "metadata": {},
   "outputs": [],
   "source": []
  }
 ],
 "metadata": {
  "kernelspec": {
   "display_name": "Python 3",
   "language": "python",
   "name": "python3"
  },
  "language_info": {
   "codemirror_mode": {
    "name": "ipython",
    "version": 3
   },
   "file_extension": ".py",
   "mimetype": "text/x-python",
   "name": "python",
   "nbconvert_exporter": "python",
   "pygments_lexer": "ipython3",
   "version": "3.10.8"
  }
 },
 "nbformat": 4,
 "nbformat_minor": 5
}
